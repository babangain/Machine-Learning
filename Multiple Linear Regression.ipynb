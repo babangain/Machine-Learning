{
 "cells": [
  {
   "cell_type": "code",
   "execution_count": 1,
   "metadata": {},
   "outputs": [
    {
     "name": "stderr",
     "output_type": "stream",
     "text": [
      "C:\\Users\\Welcome\\Anaconda3\\lib\\site-packages\\sklearn\\cross_validation.py:41: DeprecationWarning: This module was deprecated in version 0.18 in favor of the model_selection module into which all the refactored classes and functions are moved. Also note that the interface of the new CV iterators are different from that of this module. This module will be removed in 0.20.\n",
      "  \"This module will be removed in 0.20.\", DeprecationWarning)\n"
     ]
    }
   ],
   "source": [
    "import pandas as pd\n",
    "import numpy as np\n",
    "from sklearn.cross_validation import train_test_split as tts\n",
    "from sklearn.linear_model import LinearRegression\n",
    "import matplotlib.pyplot as plt\n",
    "from sklearn.preprocessing import LabelEncoder, OneHotEncoder\n",
    "data = pd.read_csv('50_Startups.csv')\n",
    "data.head()\n",
    "X = data.iloc[:,:-1].values\n",
    "Y = data.iloc[:, -1].values"
   ]
  },
  {
   "cell_type": "code",
   "execution_count": 2,
   "metadata": {},
   "outputs": [
    {
     "data": {
      "text/html": [
       "<div>\n",
       "<style scoped>\n",
       "    .dataframe tbody tr th:only-of-type {\n",
       "        vertical-align: middle;\n",
       "    }\n",
       "\n",
       "    .dataframe tbody tr th {\n",
       "        vertical-align: top;\n",
       "    }\n",
       "\n",
       "    .dataframe thead th {\n",
       "        text-align: right;\n",
       "    }\n",
       "</style>\n",
       "<table border=\"1\" class=\"dataframe\">\n",
       "  <thead>\n",
       "    <tr style=\"text-align: right;\">\n",
       "      <th></th>\n",
       "      <th>R&amp;D Spend</th>\n",
       "      <th>Administration</th>\n",
       "      <th>Marketing Spend</th>\n",
       "      <th>State</th>\n",
       "      <th>Profit</th>\n",
       "    </tr>\n",
       "  </thead>\n",
       "  <tbody>\n",
       "    <tr>\n",
       "      <th>0</th>\n",
       "      <td>165349.20</td>\n",
       "      <td>136897.80</td>\n",
       "      <td>471784.10</td>\n",
       "      <td>New York</td>\n",
       "      <td>192261.83</td>\n",
       "    </tr>\n",
       "    <tr>\n",
       "      <th>1</th>\n",
       "      <td>162597.70</td>\n",
       "      <td>151377.59</td>\n",
       "      <td>443898.53</td>\n",
       "      <td>California</td>\n",
       "      <td>191792.06</td>\n",
       "    </tr>\n",
       "    <tr>\n",
       "      <th>2</th>\n",
       "      <td>153441.51</td>\n",
       "      <td>101145.55</td>\n",
       "      <td>407934.54</td>\n",
       "      <td>Florida</td>\n",
       "      <td>191050.39</td>\n",
       "    </tr>\n",
       "    <tr>\n",
       "      <th>3</th>\n",
       "      <td>144372.41</td>\n",
       "      <td>118671.85</td>\n",
       "      <td>383199.62</td>\n",
       "      <td>New York</td>\n",
       "      <td>182901.99</td>\n",
       "    </tr>\n",
       "    <tr>\n",
       "      <th>4</th>\n",
       "      <td>142107.34</td>\n",
       "      <td>91391.77</td>\n",
       "      <td>366168.42</td>\n",
       "      <td>Florida</td>\n",
       "      <td>166187.94</td>\n",
       "    </tr>\n",
       "  </tbody>\n",
       "</table>\n",
       "</div>"
      ],
      "text/plain": [
       "   R&D Spend  Administration  Marketing Spend       State     Profit\n",
       "0  165349.20       136897.80        471784.10    New York  192261.83\n",
       "1  162597.70       151377.59        443898.53  California  191792.06\n",
       "2  153441.51       101145.55        407934.54     Florida  191050.39\n",
       "3  144372.41       118671.85        383199.62    New York  182901.99\n",
       "4  142107.34        91391.77        366168.42     Florida  166187.94"
      ]
     },
     "execution_count": 2,
     "metadata": {},
     "output_type": "execute_result"
    }
   ],
   "source": [
    "data.head()"
   ]
  },
  {
   "cell_type": "code",
   "execution_count": 3,
   "metadata": {},
   "outputs": [
    {
     "name": "stdout",
     "output_type": "stream",
     "text": [
      "(50, 4)\n",
      "(50, 6)\n"
     ]
    }
   ],
   "source": [
    "X[:,3] = LabelEncoder().fit_transform(X[:,3])  #LabelEncode 4th col\n",
    "print(X.shape)\n",
    "X = OneHotEncoder(categorical_features= [3]).fit_transform(X).toarray() #OneHotEncode 4th col\n",
    "print(X.shape)\n",
    "X = X[:,1:] # Handling Dummy variable Trap"
   ]
  },
  {
   "cell_type": "code",
   "execution_count": 4,
   "metadata": {},
   "outputs": [],
   "source": [
    "#Train-Test Split\n",
    "X_train, X_test, Y_train, Y_test = tts(X,Y,test_size = 0.2, random_state = 0)"
   ]
  },
  {
   "cell_type": "code",
   "execution_count": 5,
   "metadata": {},
   "outputs": [
    {
     "name": "stdout",
     "output_type": "stream",
     "text": [
      "(40, 5) (10, 5) (40,) (10,)\n"
     ]
    }
   ],
   "source": [
    "print(X_train.shape, X_test.shape, Y_train.shape,  Y_test.shape )"
   ]
  },
  {
   "cell_type": "code",
   "execution_count": 6,
   "metadata": {},
   "outputs": [],
   "source": [
    "model = LinearRegression()\n",
    "model.fit(X_train, Y_train)\n",
    "Y_ = model.predict(X_test)"
   ]
  },
  {
   "cell_type": "code",
   "execution_count": 7,
   "metadata": {},
   "outputs": [],
   "source": [
    "#Backward Elimination to remove non-significant vars\n",
    "import statsmodels.formula.api as stat\n",
    "import statsmodels.tools\n",
    "#If we don't add ones column, Y = b1*x1 + b2*x2 + .....\n",
    "# b0 will be ignored otherwise\n",
    "X_train = statsmodels.tools.add_constant(data=X_train, prepend = True)\n",
    "X_test = statsmodels.tools.add_constant(data=X_test, prepend = True)\n",
    "\n",
    "#Alternate Way\n",
    "#values added later to keep ones first\n",
    "#axis = 1 , append column\n",
    "#X = np.append(arr = np.ones((50,1)).astype(int), values = X, axis=1 )"
   ]
  },
  {
   "cell_type": "code",
   "execution_count": 8,
   "metadata": {},
   "outputs": [],
   "source": [
    "significance_level = 0.30\n",
    "# Lower significance_level is more important. All columns with greater significance_level should be removed."
   ]
  },
  {
   "cell_type": "code",
   "execution_count": 9,
   "metadata": {},
   "outputs": [
    {
     "name": "stdout",
     "output_type": "stream",
     "text": [
      "Removed Column index  2\n",
      "Removed Column index  1\n",
      "Removed Column index  4\n"
     ]
    },
    {
     "data": {
      "text/html": [
       "<table class=\"simpletable\">\n",
       "<caption>OLS Regression Results</caption>\n",
       "<tr>\n",
       "  <th>Dep. Variable:</th>            <td>y</td>        <th>  R-squared:         </th> <td>   0.950</td>\n",
       "</tr>\n",
       "<tr>\n",
       "  <th>Model:</th>                   <td>OLS</td>       <th>  Adj. R-squared:    </th> <td>   0.947</td>\n",
       "</tr>\n",
       "<tr>\n",
       "  <th>Method:</th>             <td>Least Squares</td>  <th>  F-statistic:       </th> <td>   349.0</td>\n",
       "</tr>\n",
       "<tr>\n",
       "  <th>Date:</th>             <td>Sun, 13 Jan 2019</td> <th>  Prob (F-statistic):</th> <td>9.65e-25</td>\n",
       "</tr>\n",
       "<tr>\n",
       "  <th>Time:</th>                 <td>19:21:40</td>     <th>  Log-Likelihood:    </th> <td> -421.30</td>\n",
       "</tr>\n",
       "<tr>\n",
       "  <th>No. Observations:</th>      <td>    40</td>      <th>  AIC:               </th> <td>   848.6</td>\n",
       "</tr>\n",
       "<tr>\n",
       "  <th>Df Residuals:</th>          <td>    37</td>      <th>  BIC:               </th> <td>   853.7</td>\n",
       "</tr>\n",
       "<tr>\n",
       "  <th>Df Model:</th>              <td>     2</td>      <th>                     </th>     <td> </td>   \n",
       "</tr>\n",
       "<tr>\n",
       "  <th>Covariance Type:</th>      <td>nonrobust</td>    <th>                     </th>     <td> </td>   \n",
       "</tr>\n",
       "</table>\n",
       "<table class=\"simpletable\">\n",
       "<tr>\n",
       "    <td></td>       <th>coef</th>     <th>std err</th>      <th>t</th>      <th>P>|t|</th>  <th>[0.025</th>    <th>0.975]</th>  \n",
       "</tr>\n",
       "<tr>\n",
       "  <th>const</th> <td> 4.635e+04</td> <td> 2971.236</td> <td>   15.598</td> <td> 0.000</td> <td> 4.03e+04</td> <td> 5.24e+04</td>\n",
       "</tr>\n",
       "<tr>\n",
       "  <th>x1</th>    <td>    0.7886</td> <td>    0.047</td> <td>   16.846</td> <td> 0.000</td> <td>    0.694</td> <td>    0.883</td>\n",
       "</tr>\n",
       "<tr>\n",
       "  <th>x2</th>    <td>    0.0326</td> <td>    0.018</td> <td>    1.860</td> <td> 0.071</td> <td>   -0.003</td> <td>    0.068</td>\n",
       "</tr>\n",
       "</table>\n",
       "<table class=\"simpletable\">\n",
       "<tr>\n",
       "  <th>Omnibus:</th>       <td>14.666</td> <th>  Durbin-Watson:     </th> <td>   2.518</td>\n",
       "</tr>\n",
       "<tr>\n",
       "  <th>Prob(Omnibus):</th> <td> 0.001</td> <th>  Jarque-Bera (JB):  </th> <td>  20.582</td>\n",
       "</tr>\n",
       "<tr>\n",
       "  <th>Skew:</th>          <td>-1.030</td> <th>  Prob(JB):          </th> <td>3.39e-05</td>\n",
       "</tr>\n",
       "<tr>\n",
       "  <th>Kurtosis:</th>      <td> 5.847</td> <th>  Cond. No.          </th> <td>4.97e+05</td>\n",
       "</tr>\n",
       "</table>"
      ],
      "text/plain": [
       "<class 'statsmodels.iolib.summary.Summary'>\n",
       "\"\"\"\n",
       "                            OLS Regression Results                            \n",
       "==============================================================================\n",
       "Dep. Variable:                      y   R-squared:                       0.950\n",
       "Model:                            OLS   Adj. R-squared:                  0.947\n",
       "Method:                 Least Squares   F-statistic:                     349.0\n",
       "Date:                Sun, 13 Jan 2019   Prob (F-statistic):           9.65e-25\n",
       "Time:                        19:21:40   Log-Likelihood:                -421.30\n",
       "No. Observations:                  40   AIC:                             848.6\n",
       "Df Residuals:                      37   BIC:                             853.7\n",
       "Df Model:                           2                                         \n",
       "Covariance Type:            nonrobust                                         \n",
       "==============================================================================\n",
       "                 coef    std err          t      P>|t|      [0.025      0.975]\n",
       "------------------------------------------------------------------------------\n",
       "const       4.635e+04   2971.236     15.598      0.000    4.03e+04    5.24e+04\n",
       "x1             0.7886      0.047     16.846      0.000       0.694       0.883\n",
       "x2             0.0326      0.018      1.860      0.071      -0.003       0.068\n",
       "==============================================================================\n",
       "Omnibus:                       14.666   Durbin-Watson:                   2.518\n",
       "Prob(Omnibus):                  0.001   Jarque-Bera (JB):               20.582\n",
       "Skew:                          -1.030   Prob(JB):                     3.39e-05\n",
       "Kurtosis:                       5.847   Cond. No.                     4.97e+05\n",
       "==============================================================================\n",
       "\n",
       "Warnings:\n",
       "[1] Standard Errors assume that the covariance matrix of the errors is correctly specified.\n",
       "[2] The condition number is large, 4.97e+05. This might indicate that there are\n",
       "strong multicollinearity or other numerical problems.\n",
       "\"\"\""
      ]
     },
     "execution_count": 9,
     "metadata": {},
     "output_type": "execute_result"
    }
   ],
   "source": [
    "cols = [i for i in range(X_train.shape[1])]\n",
    "modified_model = stat.OLS(endog = Y_train, exog = X_train).fit()\n",
    "while True:\n",
    "    selected_data = X_train[:,cols]\n",
    "    #endog = Output  exog = input\n",
    "    modified_model = stat.OLS(endog = Y_train, exog = selected_data).fit()\n",
    "    P_values = modified_model.pvalues\n",
    "    index_of_max_P = int(np.argmax(P_values))\n",
    "    if P_values[index_of_max_P] < significance_level:\n",
    "        break\n",
    "    print(\"Removed Column index \",cols[index_of_max_P])\n",
    "    cols.remove(cols[index_of_max_P])\n",
    "modified_model.summary()"
   ]
  },
  {
   "cell_type": "code",
   "execution_count": 10,
   "metadata": {},
   "outputs": [
    {
     "name": "stdout",
     "output_type": "stream",
     "text": [
      "Actual Profit \t Pred_LinearRegression \t pred_modified\n",
      "103282.38 \t 103015.20159796256 \t 102284.64605182887\n",
      "144259.4 \t 132582.27760815827 \t 133873.92383811902\n",
      "146121.95 \t 132447.73845174964 \t 134182.149516501\n",
      "77798.83 \t 71976.09851258734 \t 73701.10693630343\n",
      "191050.39 \t 178537.4822105436 \t 180642.2529973609\n",
      "105008.31 \t 116161.24230163355 \t 114717.24903894297\n",
      "81229.06 \t 67851.69209676137 \t 68335.07575312015\n",
      "97483.56 \t 98791.73374687947 \t 97433.45922275007\n",
      "110352.25 \t 113969.43533011663 \t 114580.92136452146\n",
      "166187.94 \t 167921.065695502 \t 170343.3197949841\n"
     ]
    }
   ],
   "source": [
    "print(\"Actual Profit\", \"\\t\", \"Pred_LinearRegression\",\"\\t\",\"pred_modified\")\n",
    "for i in range(len(Y_test)):\n",
    "    print(Y_test[i],\"\\t\",Y_[i],\"\\t\",modified_model.predict(X_test[i,cols])[0])"
   ]
  },
  {
   "cell_type": "code",
   "execution_count": null,
   "metadata": {},
   "outputs": [],
   "source": []
  }
 ],
 "metadata": {
  "kernelspec": {
   "display_name": "Python 3",
   "language": "python",
   "name": "python3"
  },
  "language_info": {
   "codemirror_mode": {
    "name": "ipython",
    "version": 3
   },
   "file_extension": ".py",
   "mimetype": "text/x-python",
   "name": "python",
   "nbconvert_exporter": "python",
   "pygments_lexer": "ipython3",
   "version": "3.6.4"
  }
 },
 "nbformat": 4,
 "nbformat_minor": 2
}
